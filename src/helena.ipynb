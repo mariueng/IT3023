{
 "cells": [
  {
   "cell_type": "code",
   "execution_count": 62,
   "source": [
    "import pandas as pd\n",
    "import seaborn as sb\n",
    "\n",
    "# Change to your absolute path of the dataset\n",
    "df = pd.read_csv('/Users/helenaf/Desktop/MASTER/IT3023/IT3023/data/dataset.csv')\n",
    "\n",
    "df"
   ],
   "outputs": [
    {
     "output_type": "execute_result",
     "data": {
      "text/html": [
       "<div>\n",
       "<style scoped>\n",
       "    .dataframe tbody tr th:only-of-type {\n",
       "        vertical-align: middle;\n",
       "    }\n",
       "\n",
       "    .dataframe tbody tr th {\n",
       "        vertical-align: top;\n",
       "    }\n",
       "\n",
       "    .dataframe thead th {\n",
       "        text-align: right;\n",
       "    }\n",
       "</style>\n",
       "<table border=\"1\" class=\"dataframe\">\n",
       "  <thead>\n",
       "    <tr style=\"text-align: right;\">\n",
       "      <th></th>\n",
       "      <th>SID</th>\n",
       "      <th>GID</th>\n",
       "      <th>MOT</th>\n",
       "      <th>SCORE</th>\n",
       "      <th>MOT_CAT</th>\n",
       "      <th>SCORE_CAT</th>\n",
       "      <th>PUD</th>\n",
       "      <th>PUD_CAT</th>\n",
       "      <th>FREQ</th>\n",
       "      <th>DUR</th>\n",
       "      <th>TTAll</th>\n",
       "      <th>TTAC</th>\n",
       "      <th>TTAW</th>\n",
       "      <th>TTHard</th>\n",
       "      <th>TTEasy</th>\n",
       "      <th>TTMedium</th>\n",
       "    </tr>\n",
       "  </thead>\n",
       "  <tbody>\n",
       "    <tr>\n",
       "      <th>0</th>\n",
       "      <td>mis-016815</td>\n",
       "      <td>1</td>\n",
       "      <td>1.00</td>\n",
       "      <td>0.88</td>\n",
       "      <td>1</td>\n",
       "      <td>1</td>\n",
       "      <td>1.00</td>\n",
       "      <td>1.0</td>\n",
       "      <td>10.0</td>\n",
       "      <td>909.27</td>\n",
       "      <td>1629.74</td>\n",
       "      <td>1226.790</td>\n",
       "      <td>402.95</td>\n",
       "      <td>745.790</td>\n",
       "      <td>286.53</td>\n",
       "      <td>597.42</td>\n",
       "    </tr>\n",
       "    <tr>\n",
       "      <th>1</th>\n",
       "      <td>mis-022158</td>\n",
       "      <td>0</td>\n",
       "      <td>0.44</td>\n",
       "      <td>0.38</td>\n",
       "      <td>0</td>\n",
       "      <td>2</td>\n",
       "      <td>NaN</td>\n",
       "      <td>NaN</td>\n",
       "      <td>NaN</td>\n",
       "      <td>NaN</td>\n",
       "      <td>1380.15</td>\n",
       "      <td>759.237</td>\n",
       "      <td>620.92</td>\n",
       "      <td>566.127</td>\n",
       "      <td>180.02</td>\n",
       "      <td>634.01</td>\n",
       "    </tr>\n",
       "    <tr>\n",
       "      <th>2</th>\n",
       "      <td>mis-022814</td>\n",
       "      <td>0</td>\n",
       "      <td>0.73</td>\n",
       "      <td>0.38</td>\n",
       "      <td>1</td>\n",
       "      <td>2</td>\n",
       "      <td>NaN</td>\n",
       "      <td>NaN</td>\n",
       "      <td>NaN</td>\n",
       "      <td>NaN</td>\n",
       "      <td>1214.13</td>\n",
       "      <td>356.139</td>\n",
       "      <td>857.99</td>\n",
       "      <td>404.840</td>\n",
       "      <td>342.50</td>\n",
       "      <td>466.80</td>\n",
       "    </tr>\n",
       "    <tr>\n",
       "      <th>3</th>\n",
       "      <td>mis-042515</td>\n",
       "      <td>1</td>\n",
       "      <td>0.72</td>\n",
       "      <td>0.25</td>\n",
       "      <td>1</td>\n",
       "      <td>3</td>\n",
       "      <td>0.62</td>\n",
       "      <td>1.0</td>\n",
       "      <td>8.0</td>\n",
       "      <td>194.14</td>\n",
       "      <td>1867.56</td>\n",
       "      <td>743.290</td>\n",
       "      <td>1124.27</td>\n",
       "      <td>856.780</td>\n",
       "      <td>710.97</td>\n",
       "      <td>299.81</td>\n",
       "    </tr>\n",
       "    <tr>\n",
       "      <th>4</th>\n",
       "      <td>mis-058915</td>\n",
       "      <td>1</td>\n",
       "      <td>0.32</td>\n",
       "      <td>0.13</td>\n",
       "      <td>0</td>\n",
       "      <td>3</td>\n",
       "      <td>0.16</td>\n",
       "      <td>0.0</td>\n",
       "      <td>6.0</td>\n",
       "      <td>287.71</td>\n",
       "      <td>1647.23</td>\n",
       "      <td>821.390</td>\n",
       "      <td>825.84</td>\n",
       "      <td>1243.250</td>\n",
       "      <td>177.56</td>\n",
       "      <td>226.42</td>\n",
       "    </tr>\n",
       "    <tr>\n",
       "      <th>...</th>\n",
       "      <td>...</td>\n",
       "      <td>...</td>\n",
       "      <td>...</td>\n",
       "      <td>...</td>\n",
       "      <td>...</td>\n",
       "      <td>...</td>\n",
       "      <td>...</td>\n",
       "      <td>...</td>\n",
       "      <td>...</td>\n",
       "      <td>...</td>\n",
       "      <td>...</td>\n",
       "      <td>...</td>\n",
       "      <td>...</td>\n",
       "      <td>...</td>\n",
       "      <td>...</td>\n",
       "      <td>...</td>\n",
       "    </tr>\n",
       "    <tr>\n",
       "      <th>125</th>\n",
       "      <td>mis-816254</td>\n",
       "      <td>0</td>\n",
       "      <td>0.33</td>\n",
       "      <td>0.25</td>\n",
       "      <td>0</td>\n",
       "      <td>3</td>\n",
       "      <td>NaN</td>\n",
       "      <td>NaN</td>\n",
       "      <td>NaN</td>\n",
       "      <td>NaN</td>\n",
       "      <td>1222.18</td>\n",
       "      <td>579.047</td>\n",
       "      <td>643.13</td>\n",
       "      <td>521.465</td>\n",
       "      <td>295.88</td>\n",
       "      <td>404.83</td>\n",
       "    </tr>\n",
       "    <tr>\n",
       "      <th>126</th>\n",
       "      <td>mis-816514</td>\n",
       "      <td>0</td>\n",
       "      <td>0.33</td>\n",
       "      <td>0.25</td>\n",
       "      <td>0</td>\n",
       "      <td>3</td>\n",
       "      <td>NaN</td>\n",
       "      <td>NaN</td>\n",
       "      <td>NaN</td>\n",
       "      <td>NaN</td>\n",
       "      <td>817.85</td>\n",
       "      <td>271.906</td>\n",
       "      <td>545.95</td>\n",
       "      <td>394.115</td>\n",
       "      <td>59.31</td>\n",
       "      <td>364.43</td>\n",
       "    </tr>\n",
       "    <tr>\n",
       "      <th>127</th>\n",
       "      <td>mis-829314</td>\n",
       "      <td>0</td>\n",
       "      <td>0.40</td>\n",
       "      <td>0.25</td>\n",
       "      <td>0</td>\n",
       "      <td>3</td>\n",
       "      <td>NaN</td>\n",
       "      <td>NaN</td>\n",
       "      <td>NaN</td>\n",
       "      <td>NaN</td>\n",
       "      <td>1026.12</td>\n",
       "      <td>440.612</td>\n",
       "      <td>585.51</td>\n",
       "      <td>266.060</td>\n",
       "      <td>427.57</td>\n",
       "      <td>332.50</td>\n",
       "    </tr>\n",
       "    <tr>\n",
       "      <th>128</th>\n",
       "      <td>mis-916023</td>\n",
       "      <td>0</td>\n",
       "      <td>0.33</td>\n",
       "      <td>0.13</td>\n",
       "      <td>0</td>\n",
       "      <td>3</td>\n",
       "      <td>NaN</td>\n",
       "      <td>NaN</td>\n",
       "      <td>NaN</td>\n",
       "      <td>NaN</td>\n",
       "      <td>1422.55</td>\n",
       "      <td>529.132</td>\n",
       "      <td>893.41</td>\n",
       "      <td>695.501</td>\n",
       "      <td>547.74</td>\n",
       "      <td>179.31</td>\n",
       "    </tr>\n",
       "    <tr>\n",
       "      <th>129</th>\n",
       "      <td>mis-923711</td>\n",
       "      <td>0</td>\n",
       "      <td>0.33</td>\n",
       "      <td>0.13</td>\n",
       "      <td>0</td>\n",
       "      <td>3</td>\n",
       "      <td>NaN</td>\n",
       "      <td>NaN</td>\n",
       "      <td>NaN</td>\n",
       "      <td>NaN</td>\n",
       "      <td>1327.19</td>\n",
       "      <td>502.471</td>\n",
       "      <td>824.72</td>\n",
       "      <td>830.192</td>\n",
       "      <td>319.15</td>\n",
       "      <td>177.85</td>\n",
       "    </tr>\n",
       "  </tbody>\n",
       "</table>\n",
       "<p>130 rows × 16 columns</p>\n",
       "</div>"
      ],
      "text/plain": [
       "            SID  GID   MOT  SCORE  MOT_CAT  SCORE_CAT   PUD  PUD_CAT  FREQ  \\\n",
       "0    mis-016815    1  1.00   0.88        1          1  1.00      1.0  10.0   \n",
       "1    mis-022158    0  0.44   0.38        0          2   NaN      NaN   NaN   \n",
       "2    mis-022814    0  0.73   0.38        1          2   NaN      NaN   NaN   \n",
       "3    mis-042515    1  0.72   0.25        1          3  0.62      1.0   8.0   \n",
       "4    mis-058915    1  0.32   0.13        0          3  0.16      0.0   6.0   \n",
       "..          ...  ...   ...    ...      ...        ...   ...      ...   ...   \n",
       "125  mis-816254    0  0.33   0.25        0          3   NaN      NaN   NaN   \n",
       "126  mis-816514    0  0.33   0.25        0          3   NaN      NaN   NaN   \n",
       "127  mis-829314    0  0.40   0.25        0          3   NaN      NaN   NaN   \n",
       "128  mis-916023    0  0.33   0.13        0          3   NaN      NaN   NaN   \n",
       "129  mis-923711    0  0.33   0.13        0          3   NaN      NaN   NaN   \n",
       "\n",
       "        DUR    TTAll      TTAC     TTAW    TTHard  TTEasy  TTMedium  \n",
       "0    909.27  1629.74  1226.790   402.95   745.790  286.53    597.42  \n",
       "1       NaN  1380.15   759.237   620.92   566.127  180.02    634.01  \n",
       "2       NaN  1214.13   356.139   857.99   404.840  342.50    466.80  \n",
       "3    194.14  1867.56   743.290  1124.27   856.780  710.97    299.81  \n",
       "4    287.71  1647.23   821.390   825.84  1243.250  177.56    226.42  \n",
       "..      ...      ...       ...      ...       ...     ...       ...  \n",
       "125     NaN  1222.18   579.047   643.13   521.465  295.88    404.83  \n",
       "126     NaN   817.85   271.906   545.95   394.115   59.31    364.43  \n",
       "127     NaN  1026.12   440.612   585.51   266.060  427.57    332.50  \n",
       "128     NaN  1422.55   529.132   893.41   695.501  547.74    179.31  \n",
       "129     NaN  1327.19   502.471   824.72   830.192  319.15    177.85  \n",
       "\n",
       "[130 rows x 16 columns]"
      ]
     },
     "metadata": {},
     "execution_count": 62
    }
   ],
   "metadata": {}
  },
  {
   "cell_type": "markdown",
   "source": [
    "1. Group into experimental and control group. Group df_1 has dashboard, group df_2 does not. "
   ],
   "metadata": {}
  },
  {
   "cell_type": "code",
   "execution_count": 66,
   "source": [
    "df_1 = df[df.GID != 0] #Dashboard\n",
    "df_2 = df[df.GID != 1] #No dashboard\n",
    "# ALso removing irrelevant columns from df_2\n",
    "df_2.drop(['PUD', 'PUD_CAT', 'FREQ', 'DUR'], axis=1, inplace=True)"
   ],
   "outputs": [
    {
     "output_type": "stream",
     "name": "stderr",
     "text": [
      "/Library/Frameworks/Python.framework/Versions/3.9/lib/python3.9/site-packages/pandas/core/frame.py:4906: SettingWithCopyWarning: \n",
      "A value is trying to be set on a copy of a slice from a DataFrame\n",
      "\n",
      "See the caveats in the documentation: https://pandas.pydata.org/pandas-docs/stable/user_guide/indexing.html#returning-a-view-versus-a-copy\n",
      "  return super().drop(\n"
     ]
    }
   ],
   "metadata": {}
  },
  {
   "cell_type": "markdown",
   "source": [
    "2. Comparing motivations for each group"
   ],
   "metadata": {}
  },
  {
   "cell_type": "code",
   "execution_count": 22,
   "source": [
    "print ('Mean group 1:', df_1.MOT.mean())\n",
    "print ('Mean group 2:', df_2.MOT.mean())"
   ],
   "outputs": [
    {
     "output_type": "stream",
     "name": "stdout",
     "text": [
      "Mean group 1: 0.5934848484848486\n",
      "Mean group 2: 0.5284375\n"
     ]
    }
   ],
   "metadata": {}
  },
  {
   "cell_type": "markdown",
   "source": [
    "A little bit higher motivation for dashboard group. Could be something to bear in mind, but it shouldnt be so important? "
   ],
   "metadata": {}
  },
  {
   "cell_type": "markdown",
   "source": [
    "3. Comparing total score of each group"
   ],
   "metadata": {}
  },
  {
   "cell_type": "code",
   "execution_count": 23,
   "source": [
    "print ('Avg score group 1: ', df_1.SCORE.mean())\n",
    "print ('Avg score group 2: ', df_2.SCORE.mean())"
   ],
   "outputs": [
    {
     "output_type": "stream",
     "name": "stdout",
     "text": [
      "Avg score group 1:  0.5384848484848485\n",
      "Avg score group 2:  0.42234375\n"
     ]
    }
   ],
   "metadata": {}
  },
  {
   "cell_type": "markdown",
   "source": [
    "Dashboard group got a higher score than the other group. "
   ],
   "metadata": {}
  },
  {
   "cell_type": "markdown",
   "source": [
    "4. Comparing results of high-motivated students and low-motivated students"
   ],
   "metadata": {}
  },
  {
   "cell_type": "code",
   "execution_count": 53,
   "source": [
    "# High motivation\n",
    "df_1_high_mot = df_1[df_1.MOT_CAT == 0]\n",
    "df_2_high_mot = df_2[df_2.MOT_CAT == 0]\n",
    "\n",
    "# Low motivation\n",
    "df_1_low_mot = df_1[df_1.MOT_CAT == 1]\n",
    "df_2_low_mot = df_2[df_2.MOT_CAT == 1]\n"
   ],
   "outputs": [],
   "metadata": {}
  },
  {
   "cell_type": "code",
   "execution_count": 55,
   "source": [
    "print('Time spent on all questions for high-motivated students: \\n Group 1: ', df_1_high_mot.TTAll.mean(), ' and group 2: ', df_2_high_mot.TTAll.mean())\n",
    "print('Time spent on all questions for low-motivated students: \\n Group 1: ', df_1_low_mot.TTAll.mean(), ' and group 2: ', df_2_low_mot.TTAll.mean())\n"
   ],
   "outputs": [
    {
     "output_type": "stream",
     "name": "stdout",
     "text": [
      "Time spent on all questions for high-motivated students: \n",
      " Group 1:  1366.515  and group 2:  1233.0760975609758\n",
      "Time spent on all questions for low-motivated students: \n",
      " Group 1:  1445.232857142857  and group 2:  1297.95652173913\n"
     ]
    }
   ],
   "metadata": {}
  },
  {
   "cell_type": "markdown",
   "source": [
    "\n",
    "Both the high- and low-motivated students spent more time on the questions when dashboard was available, than the students without dashboard. \n"
   ],
   "metadata": {}
  },
  {
   "cell_type": "markdown",
   "source": [
    "5. Comparing correlation matrix of group 1 and 2"
   ],
   "metadata": {}
  },
  {
   "cell_type": "code",
   "execution_count": 63,
   "source": [
    "corr1 = df_1.corr()\n",
    "sb.heatmap(corr1)\n"
   ],
   "outputs": [
    {
     "output_type": "execute_result",
     "data": {
      "text/plain": [
       "<AxesSubplot:>"
      ]
     },
     "metadata": {},
     "execution_count": 63
    },
    {
     "output_type": "display_data",
     "data": {
      "image/png": "[encoded data removed]",
      "text/plain": [
       "<Figure size 432x288 with 2 Axes>"
      ]
     },
     "metadata": {
      "needs_background": "light"
     }
    }
   ],
   "metadata": {}
  },
  {
   "cell_type": "code",
   "execution_count": 67,
   "source": [
    "corr2 = df_2.corr()\n",
    "sb.heatmap(corr2)"
   ],
   "outputs": [
    {
     "output_type": "execute_result",
     "data": {
      "text/plain": [
       "<AxesSubplot:>"
      ]
     },
     "metadata": {},
     "execution_count": 67
    },
    {
     "output_type": "display_data",
     "data": {
      "image/png": "[encoded data removed]",
      "text/plain": [
       "<Figure size 432x288 with 2 Axes>"
      ]
     },
     "metadata": {
      "needs_background": "light"
     }
    }
   ],
   "metadata": {}
  },
  {
   "cell_type": "code",
   "execution_count": 68,
   "source": [
    "print (df_1_high_mot.hist(column=['SCORE', 'TTAll', 'TTAC','TTAW','TTHard','TTEasy','TTMedium']))\n",
    "print (df_2_high_mot.hist(column=['SCORE', 'TTAll', 'TTAC','TTAW','TTHard','TTEasy','TTMedium']))"
   ],
   "outputs": [
    {
     "output_type": "stream",
     "name": "stdout",
     "text": [
      "[[<AxesSubplot:title={'center':'SCORE'}>\n",
      "  <AxesSubplot:title={'center':'TTAll'}>\n",
      "  <AxesSubplot:title={'center':'TTAC'}>]\n",
      " [<AxesSubplot:title={'center':'TTAW'}>\n",
      "  <AxesSubplot:title={'center':'TTHard'}>\n",
      "  <AxesSubplot:title={'center':'TTEasy'}>]\n",
      " [<AxesSubplot:title={'center':'TTMedium'}> <AxesSubplot:> <AxesSubplot:>]]\n",
      "[[<AxesSubplot:title={'center':'SCORE'}>\n",
      "  <AxesSubplot:title={'center':'TTAll'}>\n",
      "  <AxesSubplot:title={'center':'TTAC'}>]\n",
      " [<AxesSubplot:title={'center':'TTAW'}>\n",
      "  <AxesSubplot:title={'center':'TTHard'}>\n",
      "  <AxesSubplot:title={'center':'TTEasy'}>]\n",
      " [<AxesSubplot:title={'center':'TTMedium'}> <AxesSubplot:> <AxesSubplot:>]]\n"
     ]
    },
    {
     "output_type": "display_data",
     "data": {
      "image/png": "[encoded data removed]",
      "text/plain": [
       "<Figure size 432x288 with 9 Axes>"
      ]
     },
     "metadata": {
      "needs_background": "light"
     }
    },
    {
     "output_type": "display_data",
     "data": {
      "image/png": "[encoded data removed]",
      "text/plain": [
       "<Figure size 432x288 with 9 Axes>"
      ]
     },
     "metadata": {
      "needs_background": "light"
     }
    }
   ],
   "metadata": {}
  },
  {
   "cell_type": "markdown",
   "source": [
    "Comparing histograms between group 1 and 2 "
   ],
   "metadata": {}
  },
  {
   "cell_type": "markdown",
   "source": [],
   "metadata": {}
  },
  {
   "cell_type": "code",
   "execution_count": 40,
   "source": [
    "print (df_1.hist(column=['MOT', 'SCORE', 'TTAll', 'TTAC','TTAW','TTHard','TTEasy','TTMedium']))\n",
    "print (df_2.hist(column=['MOT', 'SCORE', 'TTAll', 'TTAC','TTAW','TTHard','TTEasy','TTMedium']))"
   ],
   "outputs": [
    {
     "output_type": "stream",
     "name": "stdout",
     "text": [
      "[[<AxesSubplot:title={'center':'MOT'}>\n",
      "  <AxesSubplot:title={'center':'SCORE'}>\n",
      "  <AxesSubplot:title={'center':'TTAll'}>]\n",
      " [<AxesSubplot:title={'center':'TTAC'}>\n",
      "  <AxesSubplot:title={'center':'TTAW'}>\n",
      "  <AxesSubplot:title={'center':'TTHard'}>]\n",
      " [<AxesSubplot:title={'center':'TTEasy'}>\n",
      "  <AxesSubplot:title={'center':'TTMedium'}> <AxesSubplot:>]]\n",
      "[[<AxesSubplot:title={'center':'MOT'}>\n",
      "  <AxesSubplot:title={'center':'SCORE'}>\n",
      "  <AxesSubplot:title={'center':'TTAll'}>]\n",
      " [<AxesSubplot:title={'center':'TTAC'}>\n",
      "  <AxesSubplot:title={'center':'TTAW'}>\n",
      "  <AxesSubplot:title={'center':'TTHard'}>]\n",
      " [<AxesSubplot:title={'center':'TTEasy'}>\n",
      "  <AxesSubplot:title={'center':'TTMedium'}> <AxesSubplot:>]]\n"
     ]
    },
    {
     "output_type": "display_data",
     "data": {
      "image/png": "[encoded data removed]",
      "text/plain": [
       "<Figure size 432x288 with 9 Axes>"
      ]
     },
     "metadata": {
      "needs_background": "light"
     }
    },
    {
     "output_type": "display_data",
     "data": {
      "image/png": "[encoded data removed]",
      "text/plain": [
       "<Figure size 432x288 with 9 Axes>"
      ]
     },
     "metadata": {
      "needs_background": "light"
     }
    }
   ],
   "metadata": {}
  },
  {
   "cell_type": "markdown",
   "source": [
    "6. Perceived usefulness of dashboard"
   ],
   "metadata": {}
  },
  {
   "cell_type": "code",
   "execution_count": 69,
   "source": [
    "df_1.PUD.mean()"
   ],
   "outputs": [
    {
     "output_type": "execute_result",
     "data": {
      "text/plain": [
       "0.5298484848484848"
      ]
     },
     "metadata": {},
     "execution_count": 69
    }
   ],
   "metadata": {}
  }
 ],
 "metadata": {
  "interpreter": {
   "hash": "7812ea015bdcee6f23a998adcdd2ef97c151c0c241b7b7070987d9313e41299d"
  },
  "kernelspec": {
   "name": "python3",
   "display_name": "Python 3.9.0 64-bit"
  },
  "language_info": {
   "codemirror_mode": {
    "name": "ipython",
    "version": 3
   },
   "file_extension": ".py",
   "mimetype": "text/x-python",
   "name": "python",
   "nbconvert_exporter": "python",
   "pygments_lexer": "ipython3",
   "version": "3.9.0"
  },
  "orig_nbformat": 4
 },
 "nbformat": 4,
 "nbformat_minor": 2
}